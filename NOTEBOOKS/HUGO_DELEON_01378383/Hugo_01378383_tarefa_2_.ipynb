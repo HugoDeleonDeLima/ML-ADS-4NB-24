{
 "cells": [
  {
   "cell_type": "code",
   "execution_count": null,
   "id": "841f140e",
   "metadata": {},
   "outputs": [],
   "source": [
    "\n",
    "import pandas as pd\n",
    "\n",
    "# URL do dataset Wine\n",
    "url = 'https://archive.ics.uci.edu/ml/machine-learning-databases/wine/wine.data'\n",
    "\n",
    "# Nome das colunas em português BR\n",
    "column_names_pt_br = [\n",
    "    'classe',\n",
    "    'alcool',\n",
    "    'acido_malico',\n",
    "    'cinzas',\n",
    "    'alcalinidade_de_cinzas',\n",
    "    'magnesio',\n",
    "    'fenois_totais',\n",
    "    'flavanoides',\n",
    "    'fenois_nao_flavanoides',\n",
    "    'proantocianinas',\n",
    "    'intensidade_de_cor',\n",
    "    'matiz',\n",
    "    'od280_od315_de_vinhos_diluidos',\n",
    "    'prolina'\n",
    "]\n",
    "\n",
    "# Ler o arquivo CSV com as colunas especificadas, definindo a coluna 'classe' como object\n",
    "vinhos = pd.read_csv(url, names=column_names_pt_br, dtype={'classe': object})\n",
    "\n",
    "# Exibir as primeiras linhas para ver se os dados foram carregados corretamente\n",
    "vinhos.head()\n"
   ]
  },
  {
   "cell_type": "markdown",
   "id": "4fe4e9a0",
   "metadata": {},
   "source": [
    "## Tarefa 1: Análise Exploratória de Variáveis"
   ]
  },
  {
   "cell_type": "code",
   "execution_count": null,
   "id": "0d41bd31",
   "metadata": {},
   "outputs": [],
   "source": [
    "\n",
    "# Estatísticas descritivas das colunas solicitadas\n",
    "estatisticas = vinhos[['alcool', 'acido_malico', 'magnesio', 'matiz']].describe()\n",
    "print(estatisticas)\n",
    "\n",
    "# Contagem de valores únicos na coluna 'classe'\n",
    "contagem_classes = vinhos['classe'].value_counts()\n",
    "print(f\"Contagem de classes:\\n{contagem_classes}\")\n"
   ]
  },
  {
   "cell_type": "markdown",
   "id": "901eb0c2",
   "metadata": {},
   "source": [
    "## Tarefa 2: Criação de Boxplots"
   ]
  },
  {
   "cell_type": "code",
   "execution_count": null,
   "id": "7265a4ef",
   "metadata": {},
   "outputs": [],
   "source": [
    "\n",
    "import seaborn as sns\n",
    "import matplotlib.pyplot as plt\n",
    "\n",
    "# Criando os boxplots\n",
    "plt.figure(figsize=(12, 6))\n",
    "\n",
    "# Boxplot para magnésio\n",
    "plt.subplot(1, 4, 1)\n",
    "sns.boxplot(y=vinhos['magnesio'])\n",
    "plt.title('Magnésio')\n",
    "\n",
    "# Boxplot para prolina\n",
    "plt.subplot(1, 4, 2)\n",
    "sns.boxplot(y=vinhos['prolina'])\n",
    "plt.title('Prolina')\n",
    "\n",
    "# Boxplot para cinzas\n",
    "plt.subplot(1, 4, 3)\n",
    "sns.boxplot(y=vinhos['cinzas'])\n",
    "plt.title('Cinzas')\n",
    "\n",
    "# Boxplot para álcool\n",
    "plt.subplot(1, 4, 4)\n",
    "sns.boxplot(y=vinhos['alcool'])\n",
    "plt.title('Álcool')\n",
    "\n",
    "plt.tight_layout()\n",
    "plt.show()\n"
   ]
  },
  {
   "cell_type": "markdown",
   "id": "b9685bd2",
   "metadata": {},
   "source": [
    "## Tarefa 3: Boxplots Segregados por Classe"
   ]
  },
  {
   "cell_type": "code",
   "execution_count": null,
   "id": "ebe2e754",
   "metadata": {},
   "outputs": [],
   "source": [
    "\n",
    "# Boxplots segregados por classe\n",
    "plt.figure(figsize=(12, 8))\n",
    "\n",
    "# Boxplot para magnésio por classe\n",
    "plt.subplot(2, 2, 1)\n",
    "vinhos.boxplot(column='magnesio', by='classe')\n",
    "plt.title('Magnésio por Classe')\n",
    "plt.suptitle('')\n",
    "\n",
    "# Boxplot para fenois_totais por classe\n",
    "plt.subplot(2, 2, 2)\n",
    "vinhos.boxplot(column='fenois_totais', by='classe')\n",
    "plt.title('Fenois Totais por Classe')\n",
    "plt.suptitle('')\n",
    "\n",
    "# Boxplot para ácido málico por classe\n",
    "plt.subplot(2, 2, 3)\n",
    "vinhos.boxplot(column='acido_malico', by='classe')\n",
    "plt.title('Ácido Málico por Classe')\n",
    "plt.suptitle('')\n",
    "\n",
    "# Boxplot para álcool por classe\n",
    "plt.subplot(2, 2, 4)\n",
    "vinhos.boxplot(column='alcool', by='classe')\n",
    "plt.title('Álcool por Classe')\n",
    "plt.suptitle('')\n",
    "\n",
    "plt.tight_layout()\n",
    "plt.show()\n"
   ]
  },
  {
   "cell_type": "markdown",
   "id": "1df546d3",
   "metadata": {},
   "source": [
    "## Tarefa 4: Criação de Histograma"
   ]
  },
  {
   "cell_type": "code",
   "execution_count": null,
   "id": "3fdaee13",
   "metadata": {},
   "outputs": [],
   "source": [
    "\n",
    "# Histograma para fenois_totais\n",
    "plt.figure(figsize=(8, 6))\n",
    "plt.hist(vinhos['fenois_totais'], bins=10)\n",
    "plt.title('Distribuição de Fenois Totais (10 bins)')\n",
    "plt.xlabel('Fenois Totais')\n",
    "plt.ylabel('Frequência')\n",
    "plt.show()\n",
    "\n",
    "# Filtrando dados para a classe 3\n",
    "vinhos_classe_3 = vinhos[vinhos['classe'] == '3']\n",
    "\n",
    "# Histograma da classe 3 para fenois_totais\n",
    "plt.figure(figsize=(8, 6))\n",
    "plt.hist(vinhos_classe_3['fenois_totais'], bins=10)\n",
    "plt.title('Distribuição de Fenois Totais - Classe 3 (10 bins)')\n",
    "plt.xlabel('Fenois Totais')\n",
    "plt.ylabel('Frequência')\n",
    "plt.show()\n"
   ]
  }
 ],
 "metadata": {},
 "nbformat": 4,
 "nbformat_minor": 5
}
