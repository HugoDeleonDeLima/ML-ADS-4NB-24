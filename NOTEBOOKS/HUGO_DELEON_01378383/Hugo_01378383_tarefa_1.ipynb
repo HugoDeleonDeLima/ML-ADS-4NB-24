{
 "cells": [
  {
   "cell_type": "code",
   "execution_count": 5,
   "id": "6941f3b3",
   "metadata": {},
   "outputs": [
    {
     "name": "stdout",
     "output_type": "stream",
     "text": [
      "Valor máximo: 8\n",
      "Valor mínimo: 2\n",
      "Média aritmética: 4.5\n",
      "Mediana: 4.0\n",
      "Desvio padrão: 1.7320508075688772\n"
     ]
    }
   ],
   "source": [
    "\n",
    "import numpy as np # type: ignore\n",
    "\n",
    "valores = [4, 6, 3, 4, 5, 8, 4, 2]\n",
    "\n",
    "valor_maximo = np.max(valores)\n",
    "valor_minimo = np.min(valores)\n",
    "media = np.mean(valores)\n",
    "mediana = np.median(valores)\n",
    "desvio_padrao = np.std(valores)\n",
    "\n",
    "print(f'Valor máximo: {valor_maximo}')\n",
    "print(f'Valor mínimo: {valor_minimo}')\n",
    "print(f'Média aritmética: {media}')\n",
    "print(f'Mediana: {mediana}')\n",
    "print(f'Desvio padrão: {desvio_padrao}')\n"
   ]
  },
  {
   "cell_type": "code",
   "execution_count": 4,
   "id": "369c7fc7",
   "metadata": {},
   "outputs": [
    {
     "name": "stdout",
     "output_type": "stream",
     "text": [
      "Defaulting to user installation because normal site-packages is not writeable\n",
      "Collecting numpy\n",
      "  Downloading numpy-2.0.2-cp39-cp39-macosx_14_0_arm64.whl (5.3 MB)\n",
      "\u001b[K     |████████████████████████████████| 5.3 MB 1.2 MB/s eta 0:00:01\n",
      "\u001b[?25hInstalling collected packages: numpy\n",
      "Successfully installed numpy-2.0.2\n",
      "\u001b[33mWARNING: You are using pip version 21.2.4; however, version 24.2 is available.\n",
      "You should consider upgrading via the '/Library/Developer/CommandLineTools/usr/bin/python3 -m pip install --upgrade pip' command.\u001b[0m\n",
      "Note: you may need to restart the kernel to use updated packages.\n"
     ]
    }
   ],
   "source": [
    "pip install numpy\n"
   ]
  }
 ],
 "metadata": {
  "kernelspec": {
   "display_name": "Python 3",
   "language": "python",
   "name": "python3"
  },
  "language_info": {
   "codemirror_mode": {
    "name": "ipython",
    "version": 3
   },
   "file_extension": ".py",
   "mimetype": "text/x-python",
   "name": "python",
   "nbconvert_exporter": "python",
   "pygments_lexer": "ipython3",
   "version": "3.9.6"
  }
 },
 "nbformat": 4,
 "nbformat_minor": 5
}
